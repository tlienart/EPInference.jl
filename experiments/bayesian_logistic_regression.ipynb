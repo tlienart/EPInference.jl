{
 "cells": [
  {
   "cell_type": "code",
   "execution_count": null,
   "metadata": {},
   "outputs": [],
   "source": [
    "using ExpFamily\n",
    "using EPInference\n",
    "using GR\n",
    "GR.inline()"
   ]
  },
  {
   "cell_type": "markdown",
   "metadata": {},
   "source": [
    "## Creating artificial data"
   ]
  },
  {
   "cell_type": "code",
   "execution_count": null,
   "metadata": {},
   "outputs": [],
   "source": [
    "srand(12)\n",
    "\n",
    "diagCov = false \n",
    "\n",
    "nObs    = 10000\n",
    "dim     = 5\n",
    "nSites  = 4\n",
    "\n",
    "P   = diagCov?diagm(-1+2*rand(dim)):(-1+2*rand(dim,dim))\n",
    "P   = P * P' + 0.1*eye(dim)\n",
    "mu  = rand(dim)\n",
    "\n",
    "priorNP = GaussianNatParam(mean=rand(dim), cov=10*eye(dim))\n",
    "w       = rand(priorNP)\n",
    "\n",
    "priordNP = DiagGaussianNatParam(mean=rand(dim), cov=10*ones(dim))\n",
    "\n",
    "X = rand(GaussianNatParam(P*mu, -P), nObs)\n",
    "s = (1./(1.+exp.(-w'*X)))'\n",
    "y = (s .> rand(nObs)) * 2.0 - 1.0\n",
    ";"
   ]
  },
  {
   "cell_type": "code",
   "execution_count": null,
   "metadata": {},
   "outputs": [],
   "source": [
    "# Shard data\n",
    "frac        = round(Int, (nObs/nSites))\n",
    "siteIndices = frac: frac: ((nSites-1)*frac)\n",
    "\n",
    "function batches(i::Int)::Tuple{Matrix{Float64},Vector{Float64}}\n",
    "    @assert i>0 && i <= nSites \"wrong batch index\"\n",
    "    rge = [1]\n",
    "    if i == nSites\n",
    "        rge = (siteIndices[end]+1) : nObs\n",
    "    elseif i == 1\n",
    "        rge = 1:siteIndices[1]\n",
    "    else\n",
    "        rge = (siteIndices[i-1]+1) : siteIndices[i]\n",
    "    end\n",
    "    (X[:,rge], y[rge])\n",
    "end\n",
    "\n",
    "loglogistic(u::Float64) = -log(1.+exp.(-u))\n",
    "\n",
    "function logfactor_blr(siteIndex, points)     # points dim: DxM for arbitrary M>1\n",
    "    (locBatchX, locBatchY) = batches(siteIndex) # corresponding observations\n",
    "    #\n",
    "    logfac = zeros(size(points,2))\n",
    "    for i in 1:size(points,2)\n",
    "        u = locBatchY .* (locBatchX'*points[:,i]) # size N*1\n",
    "        logfac[i] += sum(loglogistic.(u))\n",
    "    end\n",
    "    logfac\n",
    "end\n",
    "\n",
    "factors = [x->logfactor_blr(i, x) for i in 1:nSites];\n",
    ";"
   ]
  },
  {
   "cell_type": "markdown",
   "metadata": {},
   "source": [
    "## NP-like algorithms"
   ]
  },
  {
   "cell_type": "code",
   "execution_count": null,
   "metadata": {},
   "outputs": [],
   "source": [
    "@time begin\n",
    "    params = ParamsEP(priorNP, factors, 500, 100, 0.9, 1e-2)\n",
    "    (approx_np, memapprox_np) = epNP(params)\n",
    "    println(norm(mean(approx_np)-w)/norm(w))\n",
    "end"
   ]
  },
  {
   "cell_type": "code",
   "execution_count": null,
   "metadata": {},
   "outputs": [],
   "source": [
    "err = [norm(mean(memapprox_np[i])-w)/norm(w) for i in 1:length(memapprox_np)]\n",
    "plot(err, )"
   ]
  },
  {
   "cell_type": "code",
   "execution_count": null,
   "metadata": {},
   "outputs": [],
   "source": [
    "@time begin\n",
    "    params = ParamsEP(priordNP, factors, 200, 100, 0.01)\n",
    "    approx_np = epdNP(params)\n",
    "    println(norm(mean(approx_np)-w)/norm(w))\n",
    "end"
   ]
  },
  {
   "cell_type": "markdown",
   "metadata": {},
   "source": [
    "## MP-like algorithms"
   ]
  },
  {
   "cell_type": "code",
   "execution_count": null,
   "metadata": {},
   "outputs": [],
   "source": [
    "@time begin\n",
    "    params2   = ParamsEP(priorNP, factors, 100, 5, 0.1)\n",
    "    (approx_mp, memapprox_mp) = epMP(params2)\n",
    "    println(norm(mean(approx_mp)-w)/norm(w))\n",
    "end"
   ]
  },
  {
   "cell_type": "code",
   "execution_count": null,
   "metadata": {},
   "outputs": [],
   "source": [
    "err = [norm(mean(memapprox_mp[i])-w)/norm(w) for i in 1:length(memapprox_mp)]\n",
    "plot(err)"
   ]
  },
  {
   "cell_type": "code",
   "execution_count": null,
   "metadata": {},
   "outputs": [],
   "source": [
    "@time begin\n",
    "    params2   = ParamsEP(priorNP, factors, 100, 50, -0.001)\n",
    "    (approx_mp, memapprox_mp) = epMP(params2)\n",
    "    println(norm(mean(approx_mp)-w)/norm(w))\n",
    "end\n",
    "err = [norm(mean(memapprox_mp[i])-w)/norm(w) for i in 1:length(memapprox_mp)]\n",
    "plot(err)"
   ]
  },
  {
   "cell_type": "markdown",
   "metadata": {},
   "source": [
    "## SNEP-like algorithms"
   ]
  },
  {
   "cell_type": "code",
   "execution_count": null,
   "metadata": {},
   "outputs": [],
   "source": [
    "@time begin\n",
    "    params2   = ParamsEP(priorNP, factors, 300, 10, 0.03)\n",
    "    (approx_mp, memapprox_mp) = epSNEP(params2)\n",
    "    println(norm(mean(approx_mp)-w)/norm(w))\n",
    "end\n",
    "err = [norm(mean(memapprox_mp[i])-w)/norm(w) for i in 1:length(memapprox_mp)]\n",
    "plot(err)"
   ]
  },
  {
   "cell_type": "code",
   "execution_count": null,
   "metadata": {},
   "outputs": [],
   "source": [
    "@time begin\n",
    "    params2   = ParamsEP(priorNP, factors, 200, 10, 0.037)\n",
    "    (approx_mp, memapprox_mp) = epSNEP2(params2)\n",
    "    println(norm(mean(approx_mp)-w)/norm(w))\n",
    "end\n",
    "err = [norm(mean(memapprox_mp[i])-w)/norm(w) for i in 1:length(memapprox_mp)]\n",
    "plot(err)"
   ]
  },
  {
   "cell_type": "code",
   "execution_count": null,
   "metadata": {},
   "outputs": [],
   "source": []
  },
  {
   "cell_type": "code",
   "execution_count": null,
   "metadata": {},
   "outputs": [],
   "source": []
  }
 ],
 "metadata": {
  "kernelspec": {
   "display_name": "Julia 0.6.0",
   "language": "julia",
   "name": "julia-0.6"
  },
  "language_info": {
   "file_extension": ".jl",
   "mimetype": "application/julia",
   "name": "julia",
   "version": "0.6.0"
  }
 },
 "nbformat": 4,
 "nbformat_minor": 2
}
